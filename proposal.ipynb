{
 "cells": [
  {
   "cell_type": "markdown",
   "id": "e6aa0616",
   "metadata": {},
   "source": [
    "# CS344 Project Proposal"
   ]
  },
  {
   "cell_type": "markdown",
   "id": "1dce6444",
   "metadata": {},
   "source": [
    "Team Members: Daniel Kwik, Peter Peng"
   ]
  },
  {
   "cell_type": "markdown",
   "id": "3ec7688e",
   "metadata": {},
   "source": [
    "## Vision"
   ]
  },
  {
   "cell_type": "markdown",
   "id": "fdbcd7ee",
   "metadata": {},
   "source": [
    "We are trying to do a facial expression recognition (FER) challenge from an old [Kaggle competition](https://www.kaggle.com/competitions/challenges-in-representation-learning-facial-expression-recognition-challenge/overview). We find it interesting because knowing people's emotions with an AI can open the door for a lot of practical opportunities, for example, an emotion tracker application. The goal of this project is to train a state-of-the-art FER model, and a successful project outcome is to reach 70% of accuracy of the testing set, which is surpassing the single-network state-of-the-art performance during the competition."
   ]
  },
  {
   "cell_type": "markdown",
   "id": "4becd6dd",
   "metadata": {},
   "source": [
    "## Background\n",
    "### Data\n",
    "We are using the [FER2013](https://www.kaggle.com/competitions/challenges-in-representation-learning-facial-expression-recognition-challenge/data) dataset. We chose it because it's the dataset used in the competition, and previous state-of-the-art result was trained on this dataset. For the same reason, we are confident that this dataset will work for us.\n",
    "### Technology\n",
    "We are thinking about starting the project with the multi-label image classification method (Ch. 6 of Fast AI book) as a base result."
   ]
  },
  {
   "cell_type": "markdown",
   "id": "87f4fe1b",
   "metadata": {},
   "source": [
    "## Implementation"
   ]
  },
  {
   "cell_type": "markdown",
   "id": "3c4ca0cf",
   "metadata": {},
   "source": [
    "## Results"
   ]
  },
  {
   "cell_type": "markdown",
   "id": "16119ecd",
   "metadata": {},
   "source": [
    "## Implications"
   ]
  },
  {
   "cell_type": "code",
   "execution_count": null,
   "id": "d2beecf9",
   "metadata": {},
   "outputs": [],
   "source": []
  }
 ],
 "metadata": {
  "kernelspec": {
   "display_name": "Python 3 (ipykernel)",
   "language": "python",
   "name": "python3"
  },
  "language_info": {
   "codemirror_mode": {
    "name": "ipython",
    "version": 3
   },
   "file_extension": ".py",
   "mimetype": "text/x-python",
   "name": "python",
   "nbconvert_exporter": "python",
   "pygments_lexer": "ipython3",
   "version": "3.9.2"
  }
 },
 "nbformat": 4,
 "nbformat_minor": 5
}
