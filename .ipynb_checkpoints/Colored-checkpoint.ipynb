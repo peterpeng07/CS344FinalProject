{
 "cells": [
  {
   "cell_type": "code",
   "execution_count": null,
   "id": "4caa2988",
   "metadata": {},
   "outputs": [],
   "source": [
    "from fastbook import *\n",
    "from fastai.vision.all import *\n",
    "\n",
    "def _plot_top_losses(self, k, largest=True, **kwargs):\n",
    "    losses,idx = self.top_losses(k, largest)\n",
    "    if not isinstance(self.inputs, tuple): self.inputs = (self.inputs,)\n",
    "    if isinstance(self.inputs[0], Tensor): inps = tuple(o[idx] for o in self.inputs)\n",
    "    else: inps = self.dl.create_batch(self.dl.before_batch([tuple(o[i] for o in self.inputs) for i in idx]))\n",
    "    b = inps + tuple(o[idx] for o in (self.targs if is_listy(self.targs) else (self.targs,)))\n",
    "    x,y,its = self.dl._pre_show_batch(b, max_n=k)\n",
    "    b_out = inps + tuple(o[idx] for o in (self.decoded if is_listy(self.decoded) else (self.decoded,)))\n",
    "    x1,y1,outs = self.dl._pre_show_batch(b_out, max_n=k)\n",
    "    if its is not None:\n",
    "        plot_top_losses(x, y, its, outs.itemgot(slice(len(inps), None)), self.preds[idx], losses, **kwargs)\n",
    "ClassificationInterpretation.plot_top_losses = _plot_top_losses"
   ]
  },
  {
   "cell_type": "code",
   "execution_count": null,
   "id": "5e37ff88",
   "metadata": {},
   "outputs": [],
   "source": [
    "path = '/home/cp47/CS344FinalProject/data/colored-big'"
   ]
  },
  {
   "cell_type": "code",
   "execution_count": null,
   "id": "4c866e9e",
   "metadata": {},
   "outputs": [],
   "source": [
    "dls = ImageDataLoaders.from_path_func(\n",
    "    path,\n",
    "    get_image_files(path),\n",
    "    label_func=parent_label\n",
    ")"
   ]
  },
  {
   "cell_type": "code",
   "execution_count": null,
   "id": "cef2abdf",
   "metadata": {},
   "outputs": [],
   "source": [
    "dblock = DataBlock(blocks=(ImageBlock(cls=PILImage), CategoryBlock),\n",
    "                   get_items = get_image_files,\n",
    "                   get_y = parent_label,\n",
    "                   splitter= GrandparentSplitter(train_name='train', valid_name='test')\n",
    "#                    batch_tfms=aug_transforms(size=(160,160))\n",
    "                  )"
   ]
  },
  {
   "cell_type": "code",
   "execution_count": null,
   "id": "2d7b2dce",
   "metadata": {},
   "outputs": [],
   "source": [
    "dls = dblock.dataloaders(path)"
   ]
  },
  {
   "cell_type": "code",
   "execution_count": null,
   "id": "e5a9b315",
   "metadata": {},
   "outputs": [],
   "source": [
    "learn = cnn_learner(dls, vgg16_bn, loss_func=CrossEntropyLossFlat(), metrics=accuracy)\n",
    "learn.lr_find()"
   ]
  },
  {
   "cell_type": "code",
   "execution_count": null,
   "id": "202afbe8",
   "metadata": {},
   "outputs": [],
   "source": [
    "learn.fine_tune(10, 0.002)"
   ]
  }
 ],
 "metadata": {
  "kernelspec": {
   "display_name": "Python 3 (ipykernel)",
   "language": "python",
   "name": "python3"
  },
  "language_info": {
   "codemirror_mode": {
    "name": "ipython",
    "version": 3
   },
   "file_extension": ".py",
   "mimetype": "text/x-python",
   "name": "python",
   "nbconvert_exporter": "python",
   "pygments_lexer": "ipython3",
   "version": "3.9.7"
  }
 },
 "nbformat": 4,
 "nbformat_minor": 5
}
