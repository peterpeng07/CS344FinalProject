{
 "cells": [
  {
   "cell_type": "code",
   "execution_count": 1,
   "id": "0721175e",
   "metadata": {},
   "outputs": [],
   "source": [
    "from fastbook import *\n",
    "from fastai.vision.all import *\n",
    "import pandas as pd\n",
    "from PIL import Image\n",
    "import numpy"
   ]
  },
  {
   "cell_type": "code",
   "execution_count": 2,
   "id": "cbc1f4b2",
   "metadata": {},
   "outputs": [],
   "source": [
    "path = '/home/cp47/CS344FinalProject/data/'\n",
    "emotions = ['Angry', 'Disgust', 'Fear', 'Happy', 'Sad', 'Surprise', 'Neutral']\n",
    "df = pd.read_csv(path + 'icml_face_data.csv')"
   ]
  },
  {
   "cell_type": "code",
   "execution_count": 3,
   "id": "d9029093",
   "metadata": {},
   "outputs": [],
   "source": [
    "def get_x(data): \n",
    "    images = np.fromstring(data[' pixels'], dtype=int, sep=' ')\n",
    "    images = np.reshape(images, (48, 48)).astype(np.uint8)\n",
    "    return images\n",
    "def get_y(data): return emotions[data['emotion']]\n",
    "def splitter(data):\n",
    "    train = data.index[data[' Usage'] == 'Training'].tolist()\n",
    "    valid = data.index[data[' Usage'] != 'Training'].tolist()\n",
    "    return train, valid"
   ]
  },
  {
   "cell_type": "code",
   "execution_count": 4,
   "id": "547d694a",
   "metadata": {},
   "outputs": [
    {
     "name": "stderr",
     "output_type": "stream",
     "text": [
      "/opt/anaconda/lib/python3.9/site-packages/torch/_tensor.py:1051: UserWarning: torch.solve is deprecated in favor of torch.linalg.solveand will be removed in a future PyTorch release.\n",
      "torch.linalg.solve has its arguments reversed and does not return the LU factorization.\n",
      "To get the LU factorization see torch.lu, which can be used with torch.lu_solve or torch.lu_unpack.\n",
      "X = torch.solve(B, A).solution\n",
      "should be replaced with\n",
      "X = torch.linalg.solve(A, B) (Triggered internally at  /opt/conda/conda-bld/pytorch_1634272204863/work/aten/src/ATen/native/BatchLinearAlgebra.cpp:766.)\n",
      "  ret = func(*args, **kwargs)\n"
     ]
    }
   ],
   "source": [
    "dblock = DataBlock(blocks=(ImageBlock(cls=PILImage), CategoryBlock),\n",
    "                   get_x = get_x,\n",
    "                   get_y = get_y,\n",
    "                   splitter=splitter,\n",
    "                   batch_tfms=aug_transforms(size=(120,120))\n",
    "                  )\n",
    "dls = dblock.dataloaders(df)\n",
    "dsets = dblock.datasets(df)"
   ]
  },
  {
   "cell_type": "code",
   "execution_count": 20,
   "id": "1d8aca2d",
   "metadata": {},
   "outputs": [],
   "source": [
    "dsets[0][0].save('1.jpg')"
   ]
  },
  {
   "cell_type": "code",
   "execution_count": 16,
   "id": "a7d6b8a8",
   "metadata": {},
   "outputs": [],
   "source": [
    "def resized_image(fn:Path, sz=128):\n",
    "    x = Image.open(fn).convert('RGB').resize((sz,sz))\n",
    "    # Convert image to tensor for modeling\n",
    "    return tensor(array(x)).permute(2,0,1).float()/255."
   ]
  },
  {
   "cell_type": "code",
   "execution_count": 32,
   "id": "c9e7ff98",
   "metadata": {},
   "outputs": [],
   "source": [
    "img = np.fromstring(df[' pixels'][2], dtype=int, sep=' ')\n",
    "img = np.reshape(img, (48, 48)).astype(np.uint8)\n",
    "img = Image.fromarray(img).save('raw.jpg')"
   ]
  },
  {
   "cell_type": "code",
   "execution_count": 29,
   "id": "48896768",
   "metadata": {},
   "outputs": [
    {
     "data": {
      "text/plain": [
       "{'id': 'f466062d-7509-420e-902b-e3b70994a1bb',\n",
       " 'output_url': 'https://api.deepai.org/job-view-file/f466062d-7509-420e-902b-e3b70994a1bb/outputs/output.jpg'}"
      ]
     },
     "execution_count": 29,
     "metadata": {},
     "output_type": "execute_result"
    }
   ],
   "source": [
    "img = np.fromstring(df[' pixels'][2], dtype=int, sep=' ')\n",
    "img = np.reshape(img, (48, 48)).astype(np.uint8)\n",
    "img = Image.fromarray(img).resize((240,240)).save('temp.jpg')\n",
    "r = requests.post(\n",
    "    \"https://api.deepai.org/api/colorizer\",\n",
    "    files={\n",
    "        'image': open('temp.jpg', 'rb'),\n",
    "    },\n",
    "    headers={'api-key': 'f01f78ba-e687-4cb1-b87e-8e5a11548682'}\n",
    ")\n",
    "r.json()"
   ]
  },
  {
   "cell_type": "code",
   "execution_count": 30,
   "id": "631bd31a",
   "metadata": {},
   "outputs": [
    {
     "ename": "FileNotFoundError",
     "evalue": "[Errno 2] No such file or directory: 'https://api.deepai.org/job-view-file/f466062d-7509-420e-902b-e3b70994a1bb/outputs/output.jpg'",
     "output_type": "error",
     "traceback": [
      "\u001b[0;31m---------------------------------------------------------------------------\u001b[0m",
      "\u001b[0;31mFileNotFoundError\u001b[0m                         Traceback (most recent call last)",
      "\u001b[0;32m/tmp/ipykernel_399836/808753088.py\u001b[0m in \u001b[0;36m<module>\u001b[0;34m\u001b[0m\n\u001b[0;32m----> 1\u001b[0;31m \u001b[0mImage\u001b[0m\u001b[0;34m.\u001b[0m\u001b[0mopen\u001b[0m\u001b[0;34m(\u001b[0m\u001b[0;34m'https://api.deepai.org/job-view-file/f466062d-7509-420e-902b-e3b70994a1bb/outputs/output.jpg'\u001b[0m\u001b[0;34m)\u001b[0m\u001b[0;34m\u001b[0m\u001b[0;34m\u001b[0m\u001b[0m\n\u001b[0m",
      "\u001b[0;32m/opt/anaconda/lib/python3.9/site-packages/PIL/Image.py\u001b[0m in \u001b[0;36mopen\u001b[0;34m(fp, mode, formats)\u001b[0m\n\u001b[1;32m   2973\u001b[0m \u001b[0;34m\u001b[0m\u001b[0m\n\u001b[1;32m   2974\u001b[0m     \u001b[0;32mif\u001b[0m \u001b[0mfilename\u001b[0m\u001b[0;34m:\u001b[0m\u001b[0;34m\u001b[0m\u001b[0;34m\u001b[0m\u001b[0m\n\u001b[0;32m-> 2975\u001b[0;31m         \u001b[0mfp\u001b[0m \u001b[0;34m=\u001b[0m \u001b[0mbuiltins\u001b[0m\u001b[0;34m.\u001b[0m\u001b[0mopen\u001b[0m\u001b[0;34m(\u001b[0m\u001b[0mfilename\u001b[0m\u001b[0;34m,\u001b[0m \u001b[0;34m\"rb\"\u001b[0m\u001b[0;34m)\u001b[0m\u001b[0;34m\u001b[0m\u001b[0;34m\u001b[0m\u001b[0m\n\u001b[0m\u001b[1;32m   2976\u001b[0m         \u001b[0mexclusive_fp\u001b[0m \u001b[0;34m=\u001b[0m \u001b[0;32mTrue\u001b[0m\u001b[0;34m\u001b[0m\u001b[0;34m\u001b[0m\u001b[0m\n\u001b[1;32m   2977\u001b[0m \u001b[0;34m\u001b[0m\u001b[0m\n",
      "\u001b[0;31mFileNotFoundError\u001b[0m: [Errno 2] No such file or directory: 'https://api.deepai.org/job-view-file/f466062d-7509-420e-902b-e3b70994a1bb/outputs/output.jpg'"
     ]
    }
   ],
   "source": [
    "Image.open('https://api.deepai.org/job-view-file/f466062d-7509-420e-902b-e3b70994a1bb/outputs/output.jpg')"
   ]
  },
  {
   "cell_type": "code",
   "execution_count": 31,
   "id": "e46e1113",
   "metadata": {},
   "outputs": [],
   "source": [
    "import shutil\n",
    "\n",
    "# Where to save the image.\n",
    "save_path = Path(\"colored.jpg\")\n",
    "\n",
    "# Use requests to get the image.\n",
    "colorized_image_url = requests.get(r.json()[\"output_url\"], stream=True)\n",
    "\n",
    "# Check the status code of the request and save the image to disk.\n",
    "if colorized_image_url.status_code == 200:\n",
    "    with open(save_path, \"wb\") as save_file:\n",
    "        colorized_image_url.raw.decode_content = True\n",
    "        shutil.copyfileobj(colorized_image_url.raw, save_file)\n",
    "else:\n",
    "    # Print the status code if it is not 200 (something didn't work).\n",
    "    print(f\"image result status code: {colorized_image_url.status_code}\")"
   ]
  },
  {
   "cell_type": "code",
   "execution_count": 19,
   "id": "a31a6a09",
   "metadata": {},
   "outputs": [
    {
     "data": {
      "text/plain": [
       "torch.Size([3, 128, 128])"
      ]
     },
     "execution_count": 19,
     "metadata": {},
     "output_type": "execute_result"
    }
   ],
   "source": [
    "resized_image('1.jpg').shape"
   ]
  },
  {
   "cell_type": "code",
   "execution_count": 26,
   "id": "e8948f87",
   "metadata": {},
   "outputs": [
    {
     "data": {
      "text/plain": [
       "{'id': 'a60ac3c3-4316-40bd-acb5-c8495d551f59',\n",
       " 'output_url': 'https://api.deepai.org/job-view-file/a60ac3c3-4316-40bd-acb5-c8495d551f59/outputs/output.jpg'}"
      ]
     },
     "execution_count": 26,
     "metadata": {},
     "output_type": "execute_result"
    }
   ],
   "source": [
    "img = np.fromstring(df[' pixels'][1], dtype=int, sep=' ')\n",
    "img = np.reshape(img, (48, 48)).astype(np.uint8)\n",
    "img = Image.fromarray(img).save('temp.jpg')\n",
    "r = requests.post(\n",
    "    \"https://api.deepai.org/api/colorizer\",\n",
    "    files={\n",
    "        'image': open('temp.jpg', 'rb'),\n",
    "    },\n",
    "    headers={'api-key': 'f01f78ba-e687-4cb1-b87e-8e5a11548682'}\n",
    ")\n",
    "r.json()"
   ]
  },
  {
   "cell_type": "code",
   "execution_count": 21,
   "id": "f1562604",
   "metadata": {},
   "outputs": [],
   "source": [
    "r = requests.post(\n",
    "    \"https://api.deepai.org/api/colorizer\",\n",
    "    files={\n",
    "        'image': open('1.jpg', 'rb'),\n",
    "    },\n",
    "    headers={'api-key': 'quickstart-QUdJIGlzIGNvbWluZy4uLi4K'}\n",
    ")"
   ]
  },
  {
   "cell_type": "code",
   "execution_count": 23,
   "id": "6c8e1260",
   "metadata": {},
   "outputs": [
    {
     "data": {
      "text/plain": [
       "'https://api.deepai.org/job-view-file/6fb6d9b7-eb75-4c1b-89b1-e50b6049f332/outputs/output.jpg'"
      ]
     },
     "execution_count": 23,
     "metadata": {},
     "output_type": "execute_result"
    }
   ],
   "source": [
    "r.json()['output_url']"
   ]
  },
  {
   "cell_type": "code",
   "execution_count": null,
   "id": "e77588bf",
   "metadata": {},
   "outputs": [],
   "source": []
  },
  {
   "cell_type": "code",
   "execution_count": null,
   "id": "4b84968d",
   "metadata": {},
   "outputs": [],
   "source": [
    "import requests\n",
    "r = requests.post(\n",
    "    \"https://api.deepai.org/api/colorizer\",\n",
    "    files={\n",
    "        'image': open('test/test.jpg', 'rb'),\n",
    "    },\n",
    "    headers={'api-key': 'quickstart-QUdJIGlzIGNvbWluZy4uLi4K'}\n",
    ")\n",
    "print(r.json())"
   ]
  }
 ],
 "metadata": {
  "kernelspec": {
   "display_name": "Python 3 (ipykernel)",
   "language": "python",
   "name": "python3"
  },
  "language_info": {
   "codemirror_mode": {
    "name": "ipython",
    "version": 3
   },
   "file_extension": ".py",
   "mimetype": "text/x-python",
   "name": "python",
   "nbconvert_exporter": "python",
   "pygments_lexer": "ipython3",
   "version": "3.9.7"
  }
 },
 "nbformat": 4,
 "nbformat_minor": 5
}
